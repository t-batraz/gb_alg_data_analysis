{
  "nbformat": 4,
  "nbformat_minor": 0,
  "metadata": {
    "colab": {
      "provenance": [],
      "collapsed_sections": []
    },
    "kernelspec": {
      "name": "python3",
      "display_name": "Python 3"
    },
    "language_info": {
      "name": "python"
    },
    "gpuClass": "standard",
    "accelerator": "GPU"
  },
  "cells": [
    {
      "cell_type": "markdown",
      "source": [
        "#1. Подгрузим данные"
      ],
      "metadata": {
        "id": "ar3F4N6TSLm6"
      }
    },
    {
      "cell_type": "code",
      "execution_count": 1,
      "metadata": {
        "colab": {
          "base_uri": "https://localhost:8080/"
        },
        "id": "DmDr_ExySFMu",
        "outputId": "3e57623b-1855-462a-e746-083fd6336cad"
      },
      "outputs": [
        {
          "output_type": "stream",
          "name": "stdout",
          "text": [
            "Mounted at /content/gdrive/\n"
          ]
        }
      ],
      "source": [
        "from google.colab import drive\n",
        "drive.mount('/content/gdrive/')"
      ]
    },
    {
      "cell_type": "code",
      "source": [
        "!unzip /content/gdrive/MyDrive/ml_data/Tutors/tutors-expected-math-exam-results.zip "
      ],
      "metadata": {
        "colab": {
          "base_uri": "https://localhost:8080/"
        },
        "id": "ofjU8nV9SNn6",
        "outputId": "336d3b13-c63e-451e-cea6-622c404258fc"
      },
      "execution_count": 2,
      "outputs": [
        {
          "output_type": "stream",
          "name": "stdout",
          "text": [
            "Archive:  /content/gdrive/MyDrive/ml_data/Tutors/tutors-expected-math-exam-results.zip\n",
            "  inflating: submission_example.csv  \n",
            "  inflating: test.csv                \n",
            "  inflating: train.csv               \n"
          ]
        }
      ]
    },
    {
      "cell_type": "code",
      "source": [
        "import numpy as np\n",
        "import pandas as pd\n",
        "from sklearn.model_selection import train_test_split\n",
        "import matplotlib.pyplot as plt\n",
        "import seaborn as sns"
      ],
      "metadata": {
        "id": "kFHegrBFSaKn"
      },
      "execution_count": 3,
      "outputs": []
    },
    {
      "cell_type": "code",
      "source": [
        "test_dir = \"/content/test.csv\"\n",
        "train_dir = \"/content/train.csv\""
      ],
      "metadata": {
        "id": "zisyojjCSb2I"
      },
      "execution_count": 4,
      "outputs": []
    },
    {
      "cell_type": "code",
      "source": [
        "df = pd.read_csv(train_dir)\n",
        "df.head()"
      ],
      "metadata": {
        "colab": {
          "base_uri": "https://localhost:8080/",
          "height": 270
        },
        "id": "SpIp8lLKSc5f",
        "outputId": "de605ed6-2e71-443f-90d9-d1041ae4a8f7"
      },
      "execution_count": 5,
      "outputs": [
        {
          "output_type": "execute_result",
          "data": {
            "text/plain": [
              "   Id   age  years_of_experience  lesson_price  qualification  physics  \\\n",
              "0   0  40.0                  0.0        1400.0            1.0      1.0   \n",
              "1   1  48.0                  4.0        2850.0            3.0      1.0   \n",
              "2   2  39.0                  0.0        1200.0            1.0      0.0   \n",
              "3   3  46.0                  5.0        1400.0            1.0      0.0   \n",
              "4   4  43.0                  1.0        1500.0            1.0      0.0   \n",
              "\n",
              "   chemistry  biology  english  geography  history  mean_exam_points  \n",
              "0        0.0      0.0      0.0        1.0      0.0              63.0  \n",
              "1        0.0      0.0      0.0        0.0      0.0              86.0  \n",
              "2        0.0      0.0      0.0        0.0      0.0              53.0  \n",
              "3        0.0      0.0      0.0        0.0      0.0              56.0  \n",
              "4        0.0      0.0      0.0        0.0      0.0              59.0  "
            ],
            "text/html": [
              "\n",
              "  <div id=\"df-89c97dbf-bd80-48c8-9e85-ddb06d55ed89\">\n",
              "    <div class=\"colab-df-container\">\n",
              "      <div>\n",
              "<style scoped>\n",
              "    .dataframe tbody tr th:only-of-type {\n",
              "        vertical-align: middle;\n",
              "    }\n",
              "\n",
              "    .dataframe tbody tr th {\n",
              "        vertical-align: top;\n",
              "    }\n",
              "\n",
              "    .dataframe thead th {\n",
              "        text-align: right;\n",
              "    }\n",
              "</style>\n",
              "<table border=\"1\" class=\"dataframe\">\n",
              "  <thead>\n",
              "    <tr style=\"text-align: right;\">\n",
              "      <th></th>\n",
              "      <th>Id</th>\n",
              "      <th>age</th>\n",
              "      <th>years_of_experience</th>\n",
              "      <th>lesson_price</th>\n",
              "      <th>qualification</th>\n",
              "      <th>physics</th>\n",
              "      <th>chemistry</th>\n",
              "      <th>biology</th>\n",
              "      <th>english</th>\n",
              "      <th>geography</th>\n",
              "      <th>history</th>\n",
              "      <th>mean_exam_points</th>\n",
              "    </tr>\n",
              "  </thead>\n",
              "  <tbody>\n",
              "    <tr>\n",
              "      <th>0</th>\n",
              "      <td>0</td>\n",
              "      <td>40.0</td>\n",
              "      <td>0.0</td>\n",
              "      <td>1400.0</td>\n",
              "      <td>1.0</td>\n",
              "      <td>1.0</td>\n",
              "      <td>0.0</td>\n",
              "      <td>0.0</td>\n",
              "      <td>0.0</td>\n",
              "      <td>1.0</td>\n",
              "      <td>0.0</td>\n",
              "      <td>63.0</td>\n",
              "    </tr>\n",
              "    <tr>\n",
              "      <th>1</th>\n",
              "      <td>1</td>\n",
              "      <td>48.0</td>\n",
              "      <td>4.0</td>\n",
              "      <td>2850.0</td>\n",
              "      <td>3.0</td>\n",
              "      <td>1.0</td>\n",
              "      <td>0.0</td>\n",
              "      <td>0.0</td>\n",
              "      <td>0.0</td>\n",
              "      <td>0.0</td>\n",
              "      <td>0.0</td>\n",
              "      <td>86.0</td>\n",
              "    </tr>\n",
              "    <tr>\n",
              "      <th>2</th>\n",
              "      <td>2</td>\n",
              "      <td>39.0</td>\n",
              "      <td>0.0</td>\n",
              "      <td>1200.0</td>\n",
              "      <td>1.0</td>\n",
              "      <td>0.0</td>\n",
              "      <td>0.0</td>\n",
              "      <td>0.0</td>\n",
              "      <td>0.0</td>\n",
              "      <td>0.0</td>\n",
              "      <td>0.0</td>\n",
              "      <td>53.0</td>\n",
              "    </tr>\n",
              "    <tr>\n",
              "      <th>3</th>\n",
              "      <td>3</td>\n",
              "      <td>46.0</td>\n",
              "      <td>5.0</td>\n",
              "      <td>1400.0</td>\n",
              "      <td>1.0</td>\n",
              "      <td>0.0</td>\n",
              "      <td>0.0</td>\n",
              "      <td>0.0</td>\n",
              "      <td>0.0</td>\n",
              "      <td>0.0</td>\n",
              "      <td>0.0</td>\n",
              "      <td>56.0</td>\n",
              "    </tr>\n",
              "    <tr>\n",
              "      <th>4</th>\n",
              "      <td>4</td>\n",
              "      <td>43.0</td>\n",
              "      <td>1.0</td>\n",
              "      <td>1500.0</td>\n",
              "      <td>1.0</td>\n",
              "      <td>0.0</td>\n",
              "      <td>0.0</td>\n",
              "      <td>0.0</td>\n",
              "      <td>0.0</td>\n",
              "      <td>0.0</td>\n",
              "      <td>0.0</td>\n",
              "      <td>59.0</td>\n",
              "    </tr>\n",
              "  </tbody>\n",
              "</table>\n",
              "</div>\n",
              "      <button class=\"colab-df-convert\" onclick=\"convertToInteractive('df-89c97dbf-bd80-48c8-9e85-ddb06d55ed89')\"\n",
              "              title=\"Convert this dataframe to an interactive table.\"\n",
              "              style=\"display:none;\">\n",
              "        \n",
              "  <svg xmlns=\"http://www.w3.org/2000/svg\" height=\"24px\"viewBox=\"0 0 24 24\"\n",
              "       width=\"24px\">\n",
              "    <path d=\"M0 0h24v24H0V0z\" fill=\"none\"/>\n",
              "    <path d=\"M18.56 5.44l.94 2.06.94-2.06 2.06-.94-2.06-.94-.94-2.06-.94 2.06-2.06.94zm-11 1L8.5 8.5l.94-2.06 2.06-.94-2.06-.94L8.5 2.5l-.94 2.06-2.06.94zm10 10l.94 2.06.94-2.06 2.06-.94-2.06-.94-.94-2.06-.94 2.06-2.06.94z\"/><path d=\"M17.41 7.96l-1.37-1.37c-.4-.4-.92-.59-1.43-.59-.52 0-1.04.2-1.43.59L10.3 9.45l-7.72 7.72c-.78.78-.78 2.05 0 2.83L4 21.41c.39.39.9.59 1.41.59.51 0 1.02-.2 1.41-.59l7.78-7.78 2.81-2.81c.8-.78.8-2.07 0-2.86zM5.41 20L4 18.59l7.72-7.72 1.47 1.35L5.41 20z\"/>\n",
              "  </svg>\n",
              "      </button>\n",
              "      \n",
              "  <style>\n",
              "    .colab-df-container {\n",
              "      display:flex;\n",
              "      flex-wrap:wrap;\n",
              "      gap: 12px;\n",
              "    }\n",
              "\n",
              "    .colab-df-convert {\n",
              "      background-color: #E8F0FE;\n",
              "      border: none;\n",
              "      border-radius: 50%;\n",
              "      cursor: pointer;\n",
              "      display: none;\n",
              "      fill: #1967D2;\n",
              "      height: 32px;\n",
              "      padding: 0 0 0 0;\n",
              "      width: 32px;\n",
              "    }\n",
              "\n",
              "    .colab-df-convert:hover {\n",
              "      background-color: #E2EBFA;\n",
              "      box-shadow: 0px 1px 2px rgba(60, 64, 67, 0.3), 0px 1px 3px 1px rgba(60, 64, 67, 0.15);\n",
              "      fill: #174EA6;\n",
              "    }\n",
              "\n",
              "    [theme=dark] .colab-df-convert {\n",
              "      background-color: #3B4455;\n",
              "      fill: #D2E3FC;\n",
              "    }\n",
              "\n",
              "    [theme=dark] .colab-df-convert:hover {\n",
              "      background-color: #434B5C;\n",
              "      box-shadow: 0px 1px 3px 1px rgba(0, 0, 0, 0.15);\n",
              "      filter: drop-shadow(0px 1px 2px rgba(0, 0, 0, 0.3));\n",
              "      fill: #FFFFFF;\n",
              "    }\n",
              "  </style>\n",
              "\n",
              "      <script>\n",
              "        const buttonEl =\n",
              "          document.querySelector('#df-89c97dbf-bd80-48c8-9e85-ddb06d55ed89 button.colab-df-convert');\n",
              "        buttonEl.style.display =\n",
              "          google.colab.kernel.accessAllowed ? 'block' : 'none';\n",
              "\n",
              "        async function convertToInteractive(key) {\n",
              "          const element = document.querySelector('#df-89c97dbf-bd80-48c8-9e85-ddb06d55ed89');\n",
              "          const dataTable =\n",
              "            await google.colab.kernel.invokeFunction('convertToInteractive',\n",
              "                                                     [key], {});\n",
              "          if (!dataTable) return;\n",
              "\n",
              "          const docLinkHtml = 'Like what you see? Visit the ' +\n",
              "            '<a target=\"_blank\" href=https://colab.research.google.com/notebooks/data_table.ipynb>data table notebook</a>'\n",
              "            + ' to learn more about interactive tables.';\n",
              "          element.innerHTML = '';\n",
              "          dataTable['output_type'] = 'display_data';\n",
              "          await google.colab.output.renderOutput(dataTable, element);\n",
              "          const docLink = document.createElement('div');\n",
              "          docLink.innerHTML = docLinkHtml;\n",
              "          element.appendChild(docLink);\n",
              "        }\n",
              "      </script>\n",
              "    </div>\n",
              "  </div>\n",
              "  "
            ]
          },
          "metadata": {},
          "execution_count": 5
        }
      ]
    },
    {
      "cell_type": "code",
      "source": [
        "df.isnull().sum()"
      ],
      "metadata": {
        "colab": {
          "base_uri": "https://localhost:8080/"
        },
        "id": "IMM3l0xxSh7M",
        "outputId": "e6eba0f3-9cf3-4f01-9506-b6b7e28012d2"
      },
      "execution_count": 6,
      "outputs": [
        {
          "output_type": "execute_result",
          "data": {
            "text/plain": [
              "Id                     0\n",
              "age                    0\n",
              "years_of_experience    0\n",
              "lesson_price           0\n",
              "qualification          0\n",
              "physics                0\n",
              "chemistry              0\n",
              "biology                0\n",
              "english                0\n",
              "geography              0\n",
              "history                0\n",
              "mean_exam_points       0\n",
              "dtype: int64"
            ]
          },
          "metadata": {},
          "execution_count": 6
        }
      ]
    },
    {
      "cell_type": "code",
      "source": [
        "X = np.array(df[df.columns.drop(['mean_exam_points','Id'])])\n",
        "y = np.array(df['mean_exam_points'])\n",
        "X.shape, y.shape"
      ],
      "metadata": {
        "colab": {
          "base_uri": "https://localhost:8080/"
        },
        "id": "UTwW-siLSjYb",
        "outputId": "a9b7c0fb-1595-4bab-eb60-375b52c63c9d"
      },
      "execution_count": 7,
      "outputs": [
        {
          "output_type": "execute_result",
          "data": {
            "text/plain": [
              "((10000, 10), (10000,))"
            ]
          },
          "metadata": {},
          "execution_count": 7
        }
      ]
    },
    {
      "cell_type": "code",
      "source": [
        "df_test = pd.read_csv(test_dir)\n",
        "df_test = df_test[df_test.columns.drop(['Id'])]\n",
        "X_df_test = np.array(df_test)"
      ],
      "metadata": {
        "id": "evC9TQT-dcjp"
      },
      "execution_count": 8,
      "outputs": []
    },
    {
      "cell_type": "code",
      "source": [
        "def MinMaxSc(X1, X2):\n",
        "    X = np.vstack((X1, X2))\n",
        "\n",
        "    X1 = (X1 - X.min(axis=0)) / (X.max(axis=0) - X.min(axis=0))\n",
        "    X2 = (X2 - X.min(axis=0)) / (X.max(axis=0) - X.min(axis=0))\n",
        "    return X1, X2"
      ],
      "metadata": {
        "id": "JkdWWZtvSwvf"
      },
      "execution_count": 9,
      "outputs": []
    },
    {
      "cell_type": "code",
      "source": [
        "X, X_df_test = MinMaxSc(X, X_df_test)"
      ],
      "metadata": {
        "id": "Uv709R7cS0BI"
      },
      "execution_count": 10,
      "outputs": []
    },
    {
      "cell_type": "code",
      "source": [
        "X_train, X_test, y_train, y_test = train_test_split(X, y, test_size=0.2, shuffle=True)"
      ],
      "metadata": {
        "id": "A9BygaCrS1Pl"
      },
      "execution_count": 11,
      "outputs": []
    },
    {
      "cell_type": "code",
      "source": [
        "X_train.shape, y_train.shape"
      ],
      "metadata": {
        "colab": {
          "base_uri": "https://localhost:8080/"
        },
        "id": "r3G-QPjkdf0B",
        "outputId": "507a2c49-7cc6-426b-d05d-3d62a21c51ab"
      },
      "execution_count": 12,
      "outputs": [
        {
          "output_type": "execute_result",
          "data": {
            "text/plain": [
              "((8000, 10), (8000,))"
            ]
          },
          "metadata": {},
          "execution_count": 12
        }
      ]
    },
    {
      "cell_type": "code",
      "source": [
        "X_test.shape, y_test.shape"
      ],
      "metadata": {
        "colab": {
          "base_uri": "https://localhost:8080/"
        },
        "id": "U5ylgeEDdkv6",
        "outputId": "b7cf03e8-dfc9-4167-914f-affb9934de1d"
      },
      "execution_count": 13,
      "outputs": [
        {
          "output_type": "execute_result",
          "data": {
            "text/plain": [
              "((2000, 10), (2000,))"
            ]
          },
          "metadata": {},
          "execution_count": 13
        }
      ]
    },
    {
      "cell_type": "markdown",
      "source": [
        "#2. Градиентный бустинг"
      ],
      "metadata": {
        "id": "ejLyFB2sTFcc"
      }
    },
    {
      "cell_type": "code",
      "source": [
        "from sklearn.tree import DecisionTreeRegressor"
      ],
      "metadata": {
        "id": "frTvLxfWnOQg"
      },
      "execution_count": 14,
      "outputs": []
    },
    {
      "cell_type": "code",
      "source": [
        "from tqdm import tqdm"
      ],
      "metadata": {
        "id": "SmgxygpTNiGu"
      },
      "execution_count": 15,
      "outputs": []
    },
    {
      "cell_type": "code",
      "source": [
        "class GradientBoostingRegressor():\n",
        "  def mse(self, y, y_pred):\n",
        "    return np.mean((y - y_pred)**2)\n",
        "\n",
        "  def grad_mse(self, y):\n",
        "    return 2 * (np.sum(self.y_preds, axis=0) - y)\n",
        "\n",
        "  def mae(self, y, y_pred):\n",
        "    return np.mean(np.abs(y - y_pred))\n",
        "\n",
        "  def __init__(self, iterations=10**3, learning_rate=0.1, loss_func='MSE', metric='MAE', max_depth=2):\n",
        "    self.iterations = iterations\n",
        "    self.learning_rate = learning_rate\n",
        "    self.max_depth = max_depth\n",
        "    if loss_func == 'MSE':\n",
        "      self.loss_func = self.mse\n",
        "      self.grad = self.grad_mse\n",
        "    else:\n",
        "      self.loss_func = self.mse\n",
        "      self.grad = self.grad_mse\n",
        "\n",
        "    if metric == 'MAE':\n",
        "      self.metric = self.mae\n",
        "    elif metric == 'MSE':\n",
        "      self.metric = self.mse\n",
        "    else:\n",
        "      self.metric = self.mae\n",
        "\n",
        "  class const_pred():\n",
        "    def __init__(self):\n",
        "      pass\n",
        "\n",
        "    def fit(self, X, y):\n",
        "      self.pred = np.mean(y)\n",
        "\n",
        "    def predict(self, X):\n",
        "      return [self.pred]*len(X)\n",
        "\n",
        "  def predict(self, X):\n",
        "    t = []\n",
        "    for ind, tree in enumerate(self.trees):\n",
        "      if ind == 0:\n",
        "        t.append(tree.predict(X))\n",
        "      else:\n",
        "        t.append(self.learning_rate * tree.predict(X))\n",
        "    return np.sum(t, axis=0)\n",
        "\n",
        "  def fit(self, X_train, y_train, X_test, y_test, verbose=10, plot=True):\n",
        "    self.trees = []\n",
        "    self.y_preds = []\n",
        "    train_err = []\n",
        "    test_err = []\n",
        "    iters = []\n",
        "\n",
        "    tree = self.const_pred()\n",
        "    tree.fit(X_train, y_train)\n",
        "    self.trees.append(tree)\n",
        "    self.y_preds.append(tree.predict(X_train))\n",
        "    \n",
        "    for i in tqdm(range(self.iterations)):\n",
        "      y_train_ = -self.grad(y_train)\n",
        "\n",
        "      tree = DecisionTreeRegressor(max_depth=self.max_depth)\n",
        "      self.trees.append(tree)\n",
        "      tree.fit(X_train, y_train_)\n",
        "\n",
        "      self.y_preds.append(self.learning_rate * tree.predict(X_train))\n",
        "\n",
        "      if i%verbose==0:\n",
        "        y_train_pred = self.predict(X_train)\n",
        "        y_test_pred = self.predict(X_test)\n",
        "        iters.append(i)\n",
        "        train_err.append(self.loss_func(y_train, y_train_pred))\n",
        "        test_err.append(self.loss_func(y_test, y_test_pred))\n",
        "        print(f'iteration = {i} : train error = {round(train_err[-1],3)} : test error = {round(test_err[-1], 3)}')\n",
        "      \n",
        "    if plot:\n",
        "      plt.figure(figsize=(10,5))\n",
        "      plt.plot(iters, train_err, label='train', color='r')\n",
        "      plt.plot(iters, test_err, label='test', color='g')\n",
        "      plt.xlabel('iteration')\n",
        "      plt.ylabel('err')\n",
        "      plt.legend()\n",
        "\n"
      ],
      "metadata": {
        "id": "_ShS7c3KT8lP"
      },
      "execution_count": 16,
      "outputs": []
    },
    {
      "cell_type": "code",
      "source": [
        "gb = GradientBoostingRegressor()\n",
        "gb.fit(X_train, y_train, X_test, y_test)"
      ],
      "metadata": {
        "id": "i2sVI3e6X-bq",
        "colab": {
          "base_uri": "https://localhost:8080/",
          "height": 1000
        },
        "outputId": "98a0a40a-d3b4-4f08-852a-dbef3f52242f"
      },
      "execution_count": 17,
      "outputs": [
        {
          "output_type": "stream",
          "name": "stderr",
          "text": [
            "  2%|▏         | 22/1000 [00:00<00:04, 214.29it/s]"
          ]
        },
        {
          "output_type": "stream",
          "name": "stdout",
          "text": [
            "iteration = 0 : train error = 142.408 : test error = 135.579\n",
            "iteration = 10 : train error = 53.291 : test error = 53.175\n",
            "iteration = 20 : train error = 47.216 : test error = 48.017\n",
            "iteration = 30 : train error = 45.708 : test error = 46.846\n"
          ]
        },
        {
          "output_type": "stream",
          "name": "stderr",
          "text": [
            "  6%|▋         | 63/1000 [00:00<00:06, 146.51it/s]"
          ]
        },
        {
          "output_type": "stream",
          "name": "stdout",
          "text": [
            "iteration = 40 : train error = 45.029 : test error = 46.276\n",
            "iteration = 50 : train error = 44.629 : test error = 46.022\n",
            "iteration = 60 : train error = 43.975 : test error = 45.444\n"
          ]
        },
        {
          "output_type": "stream",
          "name": "stderr",
          "text": [
            "\r  8%|▊         | 79/1000 [00:00<00:06, 140.91it/s]"
          ]
        },
        {
          "output_type": "stream",
          "name": "stdout",
          "text": [
            "iteration = 70 : train error = 43.534 : test error = 45.074\n",
            "iteration = 80 : train error = 43.196 : test error = 44.813\n",
            "iteration = 90 : train error = 43.024 : test error = 44.664\n"
          ]
        },
        {
          "output_type": "stream",
          "name": "stderr",
          "text": [
            " 12%|█▏        | 119/1000 [00:00<00:08, 104.82it/s]"
          ]
        },
        {
          "output_type": "stream",
          "name": "stdout",
          "text": [
            "iteration = 100 : train error = 42.907 : test error = 44.632\n",
            "iteration = 110 : train error = 42.796 : test error = 44.602\n"
          ]
        },
        {
          "output_type": "stream",
          "name": "stderr",
          "text": [
            "\r 13%|█▎        | 130/1000 [00:01<00:08, 97.46it/s] "
          ]
        },
        {
          "output_type": "stream",
          "name": "stdout",
          "text": [
            "iteration = 120 : train error = 42.394 : test error = 44.246\n",
            "iteration = 130 : train error = 42.239 : test error = 44.116\n"
          ]
        },
        {
          "output_type": "stream",
          "name": "stderr",
          "text": [
            " 16%|█▌        | 158/1000 [00:01<00:11, 72.72it/s]"
          ]
        },
        {
          "output_type": "stream",
          "name": "stdout",
          "text": [
            "iteration = 140 : train error = 42.133 : test error = 44.102\n",
            "iteration = 150 : train error = 42.071 : test error = 44.123\n"
          ]
        },
        {
          "output_type": "stream",
          "name": "stderr",
          "text": [
            " 17%|█▋        | 173/1000 [00:01<00:13, 61.28it/s]"
          ]
        },
        {
          "output_type": "stream",
          "name": "stdout",
          "text": [
            "iteration = 160 : train error = 41.991 : test error = 44.111\n",
            "iteration = 170 : train error = 41.901 : test error = 44.036\n"
          ]
        },
        {
          "output_type": "stream",
          "name": "stderr",
          "text": [
            " 19%|█▉        | 191/1000 [00:02<00:14, 56.83it/s]"
          ]
        },
        {
          "output_type": "stream",
          "name": "stdout",
          "text": [
            "iteration = 180 : train error = 41.837 : test error = 44.005\n",
            "iteration = 190 : train error = 41.791 : test error = 43.968\n"
          ]
        },
        {
          "output_type": "stream",
          "name": "stderr",
          "text": [
            " 21%|██        | 211/1000 [00:02<00:14, 54.33it/s]"
          ]
        },
        {
          "output_type": "stream",
          "name": "stdout",
          "text": [
            "iteration = 200 : train error = 41.677 : test error = 43.946\n",
            "iteration = 210 : train error = 41.615 : test error = 43.925\n"
          ]
        },
        {
          "output_type": "stream",
          "name": "stderr",
          "text": [
            "\r 22%|██▏       | 221/1000 [00:02<00:14, 52.13it/s]"
          ]
        },
        {
          "output_type": "stream",
          "name": "stdout",
          "text": [
            "iteration = 220 : train error = 41.555 : test error = 43.92\n"
          ]
        },
        {
          "output_type": "stream",
          "name": "stderr",
          "text": [
            "\r 23%|██▎       | 231/1000 [00:02<00:15, 50.27it/s]"
          ]
        },
        {
          "output_type": "stream",
          "name": "stdout",
          "text": [
            "iteration = 230 : train error = 41.512 : test error = 43.92\n"
          ]
        },
        {
          "output_type": "stream",
          "name": "stderr",
          "text": [
            "\r 24%|██▍       | 241/1000 [00:03<00:15, 47.63it/s]"
          ]
        },
        {
          "output_type": "stream",
          "name": "stdout",
          "text": [
            "iteration = 240 : train error = 41.414 : test error = 43.915\n"
          ]
        },
        {
          "output_type": "stream",
          "name": "stderr",
          "text": [
            "\r 25%|██▌       | 251/1000 [00:03<00:16, 45.52it/s]"
          ]
        },
        {
          "output_type": "stream",
          "name": "stdout",
          "text": [
            "iteration = 250 : train error = 41.357 : test error = 43.892\n"
          ]
        },
        {
          "output_type": "stream",
          "name": "stderr",
          "text": [
            "\r 26%|██▌       | 261/1000 [00:03<00:16, 45.09it/s]"
          ]
        },
        {
          "output_type": "stream",
          "name": "stdout",
          "text": [
            "iteration = 260 : train error = 41.306 : test error = 43.874\n"
          ]
        },
        {
          "output_type": "stream",
          "name": "stderr",
          "text": [
            "\r 27%|██▋       | 271/1000 [00:03<00:16, 43.12it/s]"
          ]
        },
        {
          "output_type": "stream",
          "name": "stdout",
          "text": [
            "iteration = 270 : train error = 41.267 : test error = 43.849\n"
          ]
        },
        {
          "output_type": "stream",
          "name": "stderr",
          "text": [
            "\r 28%|██▊       | 281/1000 [00:04<00:16, 42.43it/s]"
          ]
        },
        {
          "output_type": "stream",
          "name": "stdout",
          "text": [
            "iteration = 280 : train error = 41.225 : test error = 43.909\n"
          ]
        },
        {
          "output_type": "stream",
          "name": "stderr",
          "text": [
            "\r 29%|██▉       | 291/1000 [00:04<00:16, 42.09it/s]"
          ]
        },
        {
          "output_type": "stream",
          "name": "stdout",
          "text": [
            "iteration = 290 : train error = 41.121 : test error = 43.756\n"
          ]
        },
        {
          "output_type": "stream",
          "name": "stderr",
          "text": [
            "\r 30%|███       | 301/1000 [00:04<00:17, 40.45it/s]"
          ]
        },
        {
          "output_type": "stream",
          "name": "stdout",
          "text": [
            "iteration = 300 : train error = 41.088 : test error = 43.78\n"
          ]
        },
        {
          "output_type": "stream",
          "name": "stderr",
          "text": [
            "\r 31%|███       | 311/1000 [00:04<00:17, 39.56it/s]"
          ]
        },
        {
          "output_type": "stream",
          "name": "stdout",
          "text": [
            "iteration = 310 : train error = 41.059 : test error = 43.78\n"
          ]
        },
        {
          "output_type": "stream",
          "name": "stderr",
          "text": [
            "\r 32%|███▏      | 321/1000 [00:05<00:17, 38.47it/s]"
          ]
        },
        {
          "output_type": "stream",
          "name": "stdout",
          "text": [
            "iteration = 320 : train error = 41.015 : test error = 43.79\n"
          ]
        },
        {
          "output_type": "stream",
          "name": "stderr",
          "text": [
            "\r 33%|███▎      | 331/1000 [00:05<00:17, 37.38it/s]"
          ]
        },
        {
          "output_type": "stream",
          "name": "stdout",
          "text": [
            "iteration = 330 : train error = 40.978 : test error = 43.758\n"
          ]
        },
        {
          "output_type": "stream",
          "name": "stderr",
          "text": [
            "\r 34%|███▍      | 341/1000 [00:05<00:18, 35.86it/s]"
          ]
        },
        {
          "output_type": "stream",
          "name": "stdout",
          "text": [
            "iteration = 340 : train error = 40.916 : test error = 43.694\n"
          ]
        },
        {
          "output_type": "stream",
          "name": "stderr",
          "text": [
            "\r 35%|███▌      | 351/1000 [00:06<00:18, 35.17it/s]"
          ]
        },
        {
          "output_type": "stream",
          "name": "stdout",
          "text": [
            "iteration = 350 : train error = 40.808 : test error = 43.562\n"
          ]
        },
        {
          "output_type": "stream",
          "name": "stderr",
          "text": [
            "\r 36%|███▌      | 361/1000 [00:06<00:18, 34.21it/s]"
          ]
        },
        {
          "output_type": "stream",
          "name": "stdout",
          "text": [
            "iteration = 360 : train error = 40.778 : test error = 43.561\n"
          ]
        },
        {
          "output_type": "stream",
          "name": "stderr",
          "text": [
            "\r 37%|███▋      | 371/1000 [00:06<00:18, 33.13it/s]"
          ]
        },
        {
          "output_type": "stream",
          "name": "stdout",
          "text": [
            "iteration = 370 : train error = 40.742 : test error = 43.597\n"
          ]
        },
        {
          "output_type": "stream",
          "name": "stderr",
          "text": [
            " 39%|███▉      | 390/1000 [00:07<00:15, 38.57it/s]"
          ]
        },
        {
          "output_type": "stream",
          "name": "stdout",
          "text": [
            "iteration = 380 : train error = 40.695 : test error = 43.612\n"
          ]
        },
        {
          "output_type": "stream",
          "name": "stderr",
          "text": [
            "\r 40%|███▉      | 395/1000 [00:07<00:19, 31.23it/s]"
          ]
        },
        {
          "output_type": "stream",
          "name": "stdout",
          "text": [
            "iteration = 390 : train error = 40.66 : test error = 43.601\n"
          ]
        },
        {
          "output_type": "stream",
          "name": "stderr",
          "text": [
            " 41%|████      | 410/1000 [00:07<00:16, 35.35it/s]"
          ]
        },
        {
          "output_type": "stream",
          "name": "stdout",
          "text": [
            "iteration = 400 : train error = 40.628 : test error = 43.62\n"
          ]
        },
        {
          "output_type": "stream",
          "name": "stderr",
          "text": [
            "\r 42%|████▏     | 415/1000 [00:08<00:20, 28.36it/s]"
          ]
        },
        {
          "output_type": "stream",
          "name": "stdout",
          "text": [
            "iteration = 410 : train error = 40.603 : test error = 43.614\n"
          ]
        },
        {
          "output_type": "stream",
          "name": "stderr",
          "text": [
            " 43%|████▎     | 430/1000 [00:08<00:17, 33.28it/s]"
          ]
        },
        {
          "output_type": "stream",
          "name": "stdout",
          "text": [
            "iteration = 420 : train error = 40.571 : test error = 43.613\n"
          ]
        },
        {
          "output_type": "stream",
          "name": "stderr",
          "text": [
            "\r 44%|████▎     | 435/1000 [00:09<00:21, 26.50it/s]"
          ]
        },
        {
          "output_type": "stream",
          "name": "stdout",
          "text": [
            "iteration = 430 : train error = 40.534 : test error = 43.599\n"
          ]
        },
        {
          "output_type": "stream",
          "name": "stderr",
          "text": [
            " 45%|████▍     | 449/1000 [00:09<00:18, 29.75it/s]"
          ]
        },
        {
          "output_type": "stream",
          "name": "stdout",
          "text": [
            "iteration = 440 : train error = 40.503 : test error = 43.582\n"
          ]
        },
        {
          "output_type": "stream",
          "name": "stderr",
          "text": [
            "\r 45%|████▌     | 454/1000 [00:09<00:22, 23.98it/s]"
          ]
        },
        {
          "output_type": "stream",
          "name": "stdout",
          "text": [
            "iteration = 450 : train error = 40.482 : test error = 43.602\n"
          ]
        },
        {
          "output_type": "stream",
          "name": "stderr",
          "text": [
            " 47%|████▋     | 469/1000 [00:10<00:18, 29.33it/s]"
          ]
        },
        {
          "output_type": "stream",
          "name": "stdout",
          "text": [
            "iteration = 460 : train error = 40.459 : test error = 43.607\n"
          ]
        },
        {
          "output_type": "stream",
          "name": "stderr",
          "text": [
            "\r 47%|████▋     | 474/1000 [00:10<00:22, 22.97it/s]"
          ]
        },
        {
          "output_type": "stream",
          "name": "stdout",
          "text": [
            "iteration = 470 : train error = 40.433 : test error = 43.618\n"
          ]
        },
        {
          "output_type": "stream",
          "name": "stderr",
          "text": [
            " 49%|████▉     | 488/1000 [00:11<00:18, 27.21it/s]"
          ]
        },
        {
          "output_type": "stream",
          "name": "stdout",
          "text": [
            "iteration = 480 : train error = 40.403 : test error = 43.609\n"
          ]
        },
        {
          "output_type": "stream",
          "name": "stderr",
          "text": [
            "\r 49%|████▉     | 493/1000 [00:11<00:23, 21.97it/s]"
          ]
        },
        {
          "output_type": "stream",
          "name": "stdout",
          "text": [
            "iteration = 490 : train error = 40.382 : test error = 43.592\n"
          ]
        },
        {
          "output_type": "stream",
          "name": "stderr",
          "text": [
            " 51%|█████     | 509/1000 [00:12<00:17, 27.56it/s]"
          ]
        },
        {
          "output_type": "stream",
          "name": "stdout",
          "text": [
            "iteration = 500 : train error = 40.366 : test error = 43.583\n"
          ]
        },
        {
          "output_type": "stream",
          "name": "stderr",
          "text": [
            "\r 51%|█████▏    | 514/1000 [00:12<00:22, 22.09it/s]"
          ]
        },
        {
          "output_type": "stream",
          "name": "stdout",
          "text": [
            "iteration = 510 : train error = 40.346 : test error = 43.6\n"
          ]
        },
        {
          "output_type": "stream",
          "name": "stderr",
          "text": [
            " 53%|█████▎    | 528/1000 [00:12<00:18, 25.91it/s]"
          ]
        },
        {
          "output_type": "stream",
          "name": "stdout",
          "text": [
            "iteration = 520 : train error = 40.312 : test error = 43.598\n"
          ]
        },
        {
          "output_type": "stream",
          "name": "stderr",
          "text": [
            " 54%|█████▍    | 540/1000 [00:13<00:17, 26.82it/s]"
          ]
        },
        {
          "output_type": "stream",
          "name": "stdout",
          "text": [
            "iteration = 530 : train error = 40.28 : test error = 43.595\n"
          ]
        },
        {
          "output_type": "stream",
          "name": "stderr",
          "text": [
            "\r 55%|█████▍    | 545/1000 [00:13<00:21, 20.82it/s]"
          ]
        },
        {
          "output_type": "stream",
          "name": "stdout",
          "text": [
            "iteration = 540 : train error = 40.256 : test error = 43.56\n"
          ]
        },
        {
          "output_type": "stream",
          "name": "stderr",
          "text": [
            " 56%|█████▌    | 558/1000 [00:14<00:18, 24.22it/s]"
          ]
        },
        {
          "output_type": "stream",
          "name": "stdout",
          "text": [
            "iteration = 550 : train error = 40.229 : test error = 43.562\n"
          ]
        },
        {
          "output_type": "stream",
          "name": "stderr",
          "text": [
            " 57%|█████▋    | 569/1000 [00:14<00:17, 24.89it/s]"
          ]
        },
        {
          "output_type": "stream",
          "name": "stdout",
          "text": [
            "iteration = 560 : train error = 40.214 : test error = 43.57\n"
          ]
        },
        {
          "output_type": "stream",
          "name": "stderr",
          "text": [
            "\r 57%|█████▋    | 574/1000 [00:15<00:21, 19.54it/s]"
          ]
        },
        {
          "output_type": "stream",
          "name": "stdout",
          "text": [
            "iteration = 570 : train error = 40.059 : test error = 43.442\n"
          ]
        },
        {
          "output_type": "stream",
          "name": "stderr",
          "text": [
            " 59%|█████▉    | 588/1000 [00:15<00:17, 23.51it/s]"
          ]
        },
        {
          "output_type": "stream",
          "name": "stdout",
          "text": [
            "iteration = 580 : train error = 39.928 : test error = 43.314\n"
          ]
        },
        {
          "output_type": "stream",
          "name": "stderr",
          "text": [
            " 60%|█████▉    | 598/1000 [00:16<00:17, 23.28it/s]"
          ]
        },
        {
          "output_type": "stream",
          "name": "stdout",
          "text": [
            "iteration = 590 : train error = 39.844 : test error = 43.22\n"
          ]
        },
        {
          "output_type": "stream",
          "name": "stderr",
          "text": [
            " 61%|██████    | 608/1000 [00:16<00:17, 22.48it/s]"
          ]
        },
        {
          "output_type": "stream",
          "name": "stdout",
          "text": [
            "iteration = 600 : train error = 39.802 : test error = 43.241\n"
          ]
        },
        {
          "output_type": "stream",
          "name": "stderr",
          "text": [
            " 62%|██████▏   | 618/1000 [00:17<00:17, 21.98it/s]"
          ]
        },
        {
          "output_type": "stream",
          "name": "stdout",
          "text": [
            "iteration = 610 : train error = 39.762 : test error = 43.215\n"
          ]
        },
        {
          "output_type": "stream",
          "name": "stderr",
          "text": [
            " 63%|██████▎   | 628/1000 [00:17<00:17, 21.52it/s]"
          ]
        },
        {
          "output_type": "stream",
          "name": "stdout",
          "text": [
            "iteration = 620 : train error = 39.735 : test error = 43.196\n"
          ]
        },
        {
          "output_type": "stream",
          "name": "stderr",
          "text": [
            " 64%|██████▍   | 638/1000 [00:18<00:17, 21.04it/s]"
          ]
        },
        {
          "output_type": "stream",
          "name": "stdout",
          "text": [
            "iteration = 630 : train error = 39.713 : test error = 43.215\n"
          ]
        },
        {
          "output_type": "stream",
          "name": "stderr",
          "text": [
            " 65%|██████▍   | 648/1000 [00:19<00:17, 20.62it/s]"
          ]
        },
        {
          "output_type": "stream",
          "name": "stdout",
          "text": [
            "iteration = 640 : train error = 39.692 : test error = 43.196\n"
          ]
        },
        {
          "output_type": "stream",
          "name": "stderr",
          "text": [
            " 66%|██████▌   | 658/1000 [00:19<00:16, 20.68it/s]"
          ]
        },
        {
          "output_type": "stream",
          "name": "stdout",
          "text": [
            "iteration = 650 : train error = 39.663 : test error = 43.181\n"
          ]
        },
        {
          "output_type": "stream",
          "name": "stderr",
          "text": [
            " 67%|██████▋   | 668/1000 [00:20<00:16, 20.17it/s]"
          ]
        },
        {
          "output_type": "stream",
          "name": "stdout",
          "text": [
            "iteration = 660 : train error = 39.632 : test error = 43.176\n"
          ]
        },
        {
          "output_type": "stream",
          "name": "stderr",
          "text": [
            " 68%|██████▊   | 678/1000 [00:20<00:16, 20.09it/s]"
          ]
        },
        {
          "output_type": "stream",
          "name": "stdout",
          "text": [
            "iteration = 670 : train error = 39.549 : test error = 43.131\n"
          ]
        },
        {
          "output_type": "stream",
          "name": "stderr",
          "text": [
            " 69%|██████▉   | 688/1000 [00:21<00:15, 19.86it/s]"
          ]
        },
        {
          "output_type": "stream",
          "name": "stdout",
          "text": [
            "iteration = 680 : train error = 39.482 : test error = 43.069\n"
          ]
        },
        {
          "output_type": "stream",
          "name": "stderr",
          "text": [
            " 70%|██████▉   | 697/1000 [00:21<00:16, 18.93it/s]"
          ]
        },
        {
          "output_type": "stream",
          "name": "stdout",
          "text": [
            "iteration = 690 : train error = 39.411 : test error = 43.034\n"
          ]
        },
        {
          "output_type": "stream",
          "name": "stderr",
          "text": [
            " 71%|███████   | 706/1000 [00:22<00:16, 18.01it/s]"
          ]
        },
        {
          "output_type": "stream",
          "name": "stdout",
          "text": [
            "iteration = 700 : train error = 39.277 : test error = 42.927\n"
          ]
        },
        {
          "output_type": "stream",
          "name": "stderr",
          "text": [
            " 72%|███████▏  | 716/1000 [00:23<00:15, 18.07it/s]"
          ]
        },
        {
          "output_type": "stream",
          "name": "stdout",
          "text": [
            "iteration = 710 : train error = 39.206 : test error = 42.866\n"
          ]
        },
        {
          "output_type": "stream",
          "name": "stderr",
          "text": [
            " 73%|███████▎  | 726/1000 [00:23<00:15, 18.22it/s]"
          ]
        },
        {
          "output_type": "stream",
          "name": "stdout",
          "text": [
            "iteration = 720 : train error = 39.123 : test error = 42.784\n"
          ]
        },
        {
          "output_type": "stream",
          "name": "stderr",
          "text": [
            " 74%|███████▎  | 736/1000 [00:24<00:14, 17.92it/s]"
          ]
        },
        {
          "output_type": "stream",
          "name": "stdout",
          "text": [
            "iteration = 730 : train error = 39.098 : test error = 42.776\n"
          ]
        },
        {
          "output_type": "stream",
          "name": "stderr",
          "text": [
            " 75%|███████▍  | 746/1000 [00:25<00:14, 17.42it/s]"
          ]
        },
        {
          "output_type": "stream",
          "name": "stdout",
          "text": [
            "iteration = 740 : train error = 39.075 : test error = 42.775\n"
          ]
        },
        {
          "output_type": "stream",
          "name": "stderr",
          "text": [
            " 76%|███████▌  | 756/1000 [00:25<00:14, 17.32it/s]"
          ]
        },
        {
          "output_type": "stream",
          "name": "stdout",
          "text": [
            "iteration = 750 : train error = 39.025 : test error = 42.734\n"
          ]
        },
        {
          "output_type": "stream",
          "name": "stderr",
          "text": [
            "\r 76%|███████▌  | 761/1000 [00:26<00:19, 12.52it/s]"
          ]
        },
        {
          "output_type": "stream",
          "name": "stdout",
          "text": [
            "iteration = 760 : train error = 38.994 : test error = 42.726\n"
          ]
        },
        {
          "output_type": "stream",
          "name": "stderr",
          "text": [
            " 77%|███████▋  | 773/1000 [00:27<00:23,  9.59it/s]"
          ]
        },
        {
          "output_type": "stream",
          "name": "stdout",
          "text": [
            "iteration = 770 : train error = 38.965 : test error = 42.722\n"
          ]
        },
        {
          "output_type": "stream",
          "name": "stderr",
          "text": [
            " 78%|███████▊  | 782/1000 [00:28<00:26,  8.38it/s]"
          ]
        },
        {
          "output_type": "stream",
          "name": "stdout",
          "text": [
            "iteration = 780 : train error = 38.939 : test error = 42.715\n"
          ]
        },
        {
          "output_type": "stream",
          "name": "stderr",
          "text": [
            " 80%|███████▉  | 796/1000 [00:29<00:15, 13.13it/s]"
          ]
        },
        {
          "output_type": "stream",
          "name": "stdout",
          "text": [
            "iteration = 790 : train error = 38.919 : test error = 42.72\n"
          ]
        },
        {
          "output_type": "stream",
          "name": "stderr",
          "text": [
            " 81%|████████  | 806/1000 [00:30<00:12, 14.97it/s]"
          ]
        },
        {
          "output_type": "stream",
          "name": "stdout",
          "text": [
            "iteration = 800 : train error = 38.905 : test error = 42.721\n"
          ]
        },
        {
          "output_type": "stream",
          "name": "stderr",
          "text": [
            " 82%|████████▏ | 816/1000 [00:30<00:11, 15.77it/s]"
          ]
        },
        {
          "output_type": "stream",
          "name": "stdout",
          "text": [
            "iteration = 810 : train error = 38.885 : test error = 42.732\n"
          ]
        },
        {
          "output_type": "stream",
          "name": "stderr",
          "text": [
            " 83%|████████▎ | 826/1000 [00:31<00:10, 15.86it/s]"
          ]
        },
        {
          "output_type": "stream",
          "name": "stdout",
          "text": [
            "iteration = 820 : train error = 38.861 : test error = 42.729\n"
          ]
        },
        {
          "output_type": "stream",
          "name": "stderr",
          "text": [
            " 84%|████████▎ | 836/1000 [00:32<00:10, 15.50it/s]"
          ]
        },
        {
          "output_type": "stream",
          "name": "stdout",
          "text": [
            "iteration = 830 : train error = 38.806 : test error = 42.678\n"
          ]
        },
        {
          "output_type": "stream",
          "name": "stderr",
          "text": [
            " 84%|████████▍ | 845/1000 [00:33<00:10, 14.51it/s]"
          ]
        },
        {
          "output_type": "stream",
          "name": "stdout",
          "text": [
            "iteration = 840 : train error = 38.788 : test error = 42.69\n"
          ]
        },
        {
          "output_type": "stream",
          "name": "stderr",
          "text": [
            " 86%|████████▌ | 858/1000 [00:34<00:09, 15.73it/s]"
          ]
        },
        {
          "output_type": "stream",
          "name": "stdout",
          "text": [
            "iteration = 850 : train error = 38.773 : test error = 42.676\n"
          ]
        },
        {
          "output_type": "stream",
          "name": "stderr",
          "text": [
            " 87%|████████▋ | 866/1000 [00:34<00:09, 14.58it/s]"
          ]
        },
        {
          "output_type": "stream",
          "name": "stdout",
          "text": [
            "iteration = 860 : train error = 38.718 : test error = 42.653\n"
          ]
        },
        {
          "output_type": "stream",
          "name": "stderr",
          "text": [
            " 88%|████████▊ | 878/1000 [00:35<00:08, 14.85it/s]"
          ]
        },
        {
          "output_type": "stream",
          "name": "stdout",
          "text": [
            "iteration = 870 : train error = 38.665 : test error = 42.624\n"
          ]
        },
        {
          "output_type": "stream",
          "name": "stderr",
          "text": [
            " 88%|████████▊ | 885/1000 [00:36<00:08, 13.11it/s]"
          ]
        },
        {
          "output_type": "stream",
          "name": "stdout",
          "text": [
            "iteration = 880 : train error = 38.622 : test error = 42.619\n"
          ]
        },
        {
          "output_type": "stream",
          "name": "stderr",
          "text": [
            " 90%|████████▉ | 898/1000 [00:37<00:06, 14.64it/s]"
          ]
        },
        {
          "output_type": "stream",
          "name": "stdout",
          "text": [
            "iteration = 890 : train error = 38.515 : test error = 42.558\n"
          ]
        },
        {
          "output_type": "stream",
          "name": "stderr",
          "text": [
            " 90%|█████████ | 905/1000 [00:37<00:07, 12.94it/s]"
          ]
        },
        {
          "output_type": "stream",
          "name": "stdout",
          "text": [
            "iteration = 900 : train error = 38.473 : test error = 42.541\n"
          ]
        },
        {
          "output_type": "stream",
          "name": "stderr",
          "text": [
            " 92%|█████████▏| 917/1000 [00:38<00:05, 13.92it/s]"
          ]
        },
        {
          "output_type": "stream",
          "name": "stdout",
          "text": [
            "iteration = 910 : train error = 38.42 : test error = 42.522\n"
          ]
        },
        {
          "output_type": "stream",
          "name": "stderr",
          "text": [
            " 92%|█████████▎| 925/1000 [00:39<00:05, 12.65it/s]"
          ]
        },
        {
          "output_type": "stream",
          "name": "stdout",
          "text": [
            "iteration = 920 : train error = 38.389 : test error = 42.513\n"
          ]
        },
        {
          "output_type": "stream",
          "name": "stderr",
          "text": [
            " 94%|█████████▎| 936/1000 [00:40<00:05, 12.79it/s]"
          ]
        },
        {
          "output_type": "stream",
          "name": "stdout",
          "text": [
            "iteration = 930 : train error = 38.357 : test error = 42.494\n"
          ]
        },
        {
          "output_type": "stream",
          "name": "stderr",
          "text": [
            " 95%|█████████▍| 947/1000 [00:41<00:04, 13.21it/s]"
          ]
        },
        {
          "output_type": "stream",
          "name": "stdout",
          "text": [
            "iteration = 940 : train error = 38.337 : test error = 42.484\n"
          ]
        },
        {
          "output_type": "stream",
          "name": "stderr",
          "text": [
            " 96%|█████████▌| 955/1000 [00:41<00:03, 12.31it/s]"
          ]
        },
        {
          "output_type": "stream",
          "name": "stdout",
          "text": [
            "iteration = 950 : train error = 38.32 : test error = 42.493\n"
          ]
        },
        {
          "output_type": "stream",
          "name": "stderr",
          "text": [
            " 97%|█████████▋| 966/1000 [00:42<00:02, 12.99it/s]"
          ]
        },
        {
          "output_type": "stream",
          "name": "stdout",
          "text": [
            "iteration = 960 : train error = 38.296 : test error = 42.478\n"
          ]
        },
        {
          "output_type": "stream",
          "name": "stderr",
          "text": [
            " 98%|█████████▊| 977/1000 [00:43<00:01, 11.74it/s]"
          ]
        },
        {
          "output_type": "stream",
          "name": "stdout",
          "text": [
            "iteration = 970 : train error = 38.27 : test error = 42.466\n"
          ]
        },
        {
          "output_type": "stream",
          "name": "stderr",
          "text": [
            " 98%|█████████▊| 985/1000 [00:44<00:01, 11.27it/s]"
          ]
        },
        {
          "output_type": "stream",
          "name": "stdout",
          "text": [
            "iteration = 980 : train error = 38.25 : test error = 42.459\n"
          ]
        },
        {
          "output_type": "stream",
          "name": "stderr",
          "text": [
            "100%|█████████▉| 996/1000 [00:45<00:00, 11.99it/s]"
          ]
        },
        {
          "output_type": "stream",
          "name": "stdout",
          "text": [
            "iteration = 990 : train error = 38.234 : test error = 42.462\n"
          ]
        },
        {
          "output_type": "stream",
          "name": "stderr",
          "text": [
            "100%|██████████| 1000/1000 [00:45<00:00, 21.88it/s]\n"
          ]
        },
        {
          "output_type": "display_data",
          "data": {
            "text/plain": [
              "<Figure size 720x360 with 1 Axes>"
            ],
            "image/png": "[encoded data removed]"
          },
          "metadata": {
            "needs_background": "light"
          }
        }
      ]
    },
    {
      "cell_type": "code",
      "source": [
        "y_pred = gb.predict(X_test)"
      ],
      "metadata": {
        "id": "cx3-kkNIdECT"
      },
      "execution_count": 18,
      "outputs": []
    },
    {
      "cell_type": "code",
      "source": [
        "from sklearn.metrics import mean_squared_error"
      ],
      "metadata": {
        "id": "brXKBbme2Zxf"
      },
      "execution_count": 19,
      "outputs": []
    },
    {
      "cell_type": "code",
      "source": [
        "mean_squared_error(y_test, y_pred)"
      ],
      "metadata": {
        "colab": {
          "base_uri": "https://localhost:8080/"
        },
        "id": "riW7QQDQ2Vb0",
        "outputId": "ca58caa2-41a6-42b0-822a-c069dc6d5f4e"
      },
      "execution_count": 20,
      "outputs": [
        {
          "output_type": "execute_result",
          "data": {
            "text/plain": [
              "42.467146775294005"
            ]
          },
          "metadata": {},
          "execution_count": 20
        }
      ]
    },
    {
      "cell_type": "markdown",
      "source": [
        "#3. Линейная регрессия\n"
      ],
      "metadata": {
        "id": "7ELDK-nfZuvT"
      }
    },
    {
      "cell_type": "code",
      "source": [
        "class LinearRegressor():\n",
        "  def mse(self, y, y_pred):\n",
        "    return np.mean((y - y_pred)**2)\n",
        "\n",
        "  def __init__(self, iterations=10**3, learning_rate=0.1):\n",
        "    self.iterations = iterations\n",
        "    self.learning_rate = learning_rate\n",
        "\n",
        "  def predict(self, X):\n",
        "    return np.dot(self.W, X.T)\n",
        "\n",
        "  def fit(self, X_train, y_train, X_test, y_test, verbose=10, plot=True):\n",
        "    self.W = np.random.randn(X_train.shape[1])\n",
        "    train_err = []\n",
        "    test_err = []\n",
        "    iters = []\n",
        "    for i in tqdm(range(self.iterations)):\n",
        "      y_pred = self.predict(X_train)\n",
        "      self.W -= self.learning_rate * np.dot((y_pred - y_train), X_train) / len(y_pred)\n",
        "      if i%verbose==0:\n",
        "        y_train_pred = self.predict(X_train)\n",
        "        y_test_pred = self.predict(X_test)\n",
        "        iters.append(i)\n",
        "        train_err.append(self.mse(y_train, y_train_pred))\n",
        "        test_err.append(self.mse(y_test, y_test_pred))\n",
        "        print(f'iteration = {i} : train error = {round(train_err[-1],3)} : test error = {round(test_err[-1], 3)}')\n",
        "    \n",
        "    if plot:\n",
        "      plt.figure(figsize=(10,5))\n",
        "      plt.plot(iters, train_err, label='train', color='r')\n",
        "      plt.plot(iters, test_err, label='test', color='g')\n",
        "      plt.xlabel('iteration')\n",
        "      plt.ylabel('err')\n",
        "      plt.legend()"
      ],
      "metadata": {
        "id": "etXwT14jaS5y"
      },
      "execution_count": 21,
      "outputs": []
    },
    {
      "cell_type": "code",
      "source": [
        "lr = LinearRegressor()\n",
        "lr.fit(X_train, y_train, X_test, y_test)"
      ],
      "metadata": {
        "id": "nwtFJzGybLFl",
        "colab": {
          "base_uri": "https://localhost:8080/",
          "height": 1000
        },
        "outputId": "8181f95b-e631-47e5-9e20-e161b82d20ab"
      },
      "execution_count": 22,
      "outputs": [
        {
          "output_type": "stream",
          "name": "stderr",
          "text": [
            " 82%|████████▏ | 820/1000 [00:00<00:00, 4173.27it/s]"
          ]
        },
        {
          "output_type": "stream",
          "name": "stdout",
          "text": [
            "iteration = 0 : train error = 3700.733 : test error = 3640.273\n",
            "iteration = 10 : train error = 1019.261 : test error = 1010.977\n",
            "iteration = 20 : train error = 455.342 : test error = 458.641\n",
            "iteration = 30 : train error = 317.321 : test error = 322.912\n",
            "iteration = 40 : train error = 270.727 : test error = 276.514\n",
            "iteration = 50 : train error = 247.652 : test error = 253.237\n",
            "iteration = 60 : train error = 233.096 : test error = 238.464\n",
            "iteration = 70 : train error = 222.935 : test error = 228.143\n",
            "iteration = 80 : train error = 215.541 : test error = 220.639\n",
            "iteration = 90 : train error = 210.026 : test error = 215.051\n",
            "iteration = 100 : train error = 205.821 : test error = 210.795\n",
            "iteration = 110 : train error = 202.538 : test error = 207.476\n",
            "iteration = 120 : train error = 199.911 : test error = 204.82\n",
            "iteration = 130 : train error = 197.754 : test error = 202.638\n",
            "iteration = 140 : train error = 195.935 : test error = 200.796\n",
            "iteration = 150 : train error = 194.362 : test error = 199.202\n",
            "iteration = 160 : train error = 192.972 : test error = 197.79\n",
            "iteration = 170 : train error = 191.718 : test error = 196.514\n",
            "iteration = 180 : train error = 190.568 : test error = 195.341\n",
            "iteration = 190 : train error = 189.498 : test error = 194.247\n",
            "iteration = 200 : train error = 188.491 : test error = 193.215\n",
            "iteration = 210 : train error = 187.535 : test error = 192.234\n",
            "iteration = 220 : train error = 186.62 : test error = 191.294\n",
            "iteration = 230 : train error = 185.741 : test error = 190.388\n",
            "iteration = 240 : train error = 184.893 : test error = 189.513\n",
            "iteration = 250 : train error = 184.07 : test error = 188.664\n",
            "iteration = 260 : train error = 183.272 : test error = 187.839\n",
            "iteration = 270 : train error = 182.494 : test error = 187.034\n",
            "iteration = 280 : train error = 181.737 : test error = 186.25\n",
            "iteration = 290 : train error = 180.997 : test error = 185.483\n",
            "iteration = 300 : train error = 180.275 : test error = 184.734\n",
            "iteration = 310 : train error = 179.569 : test error = 184.001\n",
            "iteration = 320 : train error = 178.879 : test error = 183.284\n",
            "iteration = 330 : train error = 178.203 : test error = 182.581\n",
            "iteration = 340 : train error = 177.541 : test error = 181.893\n",
            "iteration = 350 : train error = 176.893 : test error = 181.219\n",
            "iteration = 360 : train error = 176.259 : test error = 180.558\n",
            "iteration = 370 : train error = 175.637 : test error = 179.911\n",
            "iteration = 380 : train error = 175.028 : test error = 179.276\n",
            "iteration = 390 : train error = 174.43 : test error = 178.653\n",
            "iteration = 400 : train error = 173.845 : test error = 178.043\n",
            "iteration = 410 : train error = 173.271 : test error = 177.444\n",
            "iteration = 420 : train error = 172.709 : test error = 176.857\n",
            "iteration = 430 : train error = 172.157 : test error = 176.282\n",
            "iteration = 440 : train error = 171.617 : test error = 175.717\n",
            "iteration = 450 : train error = 171.087 : test error = 175.163\n",
            "iteration = 460 : train error = 170.567 : test error = 174.62\n",
            "iteration = 470 : train error = 170.057 : test error = 174.087\n",
            "iteration = 480 : train error = 169.557 : test error = 173.565\n",
            "iteration = 490 : train error = 169.067 : test error = 173.052\n",
            "iteration = 500 : train error = 168.586 : test error = 172.549\n",
            "iteration = 510 : train error = 168.115 : test error = 172.056\n",
            "iteration = 520 : train error = 167.653 : test error = 171.572\n",
            "iteration = 530 : train error = 167.2 : test error = 171.097\n",
            "iteration = 540 : train error = 166.755 : test error = 170.631\n",
            "iteration = 550 : train error = 166.319 : test error = 170.175\n",
            "iteration = 560 : train error = 165.891 : test error = 169.727\n",
            "iteration = 570 : train error = 165.472 : test error = 169.287\n",
            "iteration = 580 : train error = 165.061 : test error = 168.856\n",
            "iteration = 590 : train error = 164.657 : test error = 168.433\n",
            "iteration = 600 : train error = 164.262 : test error = 168.018\n",
            "iteration = 610 : train error = 163.874 : test error = 167.611\n",
            "iteration = 620 : train error = 163.493 : test error = 167.211\n",
            "iteration = 630 : train error = 163.12 : test error = 166.82\n",
            "iteration = 640 : train error = 162.754 : test error = 166.435\n",
            "iteration = 650 : train error = 162.395 : test error = 166.058\n",
            "iteration = 660 : train error = 162.043 : test error = 165.688\n",
            "iteration = 670 : train error = 161.698 : test error = 165.325\n",
            "iteration = 680 : train error = 161.359 : test error = 164.969\n",
            "iteration = 690 : train error = 161.027 : test error = 164.62\n",
            "iteration = 700 : train error = 160.701 : test error = 164.278\n",
            "iteration = 710 : train error = 160.381 : test error = 163.941\n",
            "iteration = 720 : train error = 160.068 : test error = 163.612\n",
            "iteration = 730 : train error = 159.761 : test error = 163.288\n",
            "iteration = 740 : train error = 159.459 : test error = 162.971\n",
            "iteration = 750 : train error = 159.163 : test error = 162.66\n",
            "iteration = 760 : train error = 158.873 : test error = 162.354\n",
            "iteration = 770 : train error = 158.589 : test error = 162.055\n",
            "iteration = 780 : train error = 158.31 : test error = 161.761\n",
            "iteration = 790 : train error = 158.036 : test error = 161.472\n",
            "iteration = 800 : train error = 157.768 : test error = 161.189\n",
            "iteration = 810 : train error = 157.504 : test error = 160.912\n"
          ]
        },
        {
          "output_type": "stream",
          "name": "stderr",
          "text": [
            "\r100%|██████████| 1000/1000 [00:00<00:00, 4020.54it/s]\n"
          ]
        },
        {
          "output_type": "stream",
          "name": "stdout",
          "text": [
            "iteration = 820 : train error = 157.246 : test error = 160.639\n",
            "iteration = 830 : train error = 156.993 : test error = 160.372\n",
            "iteration = 840 : train error = 156.744 : test error = 160.11\n",
            "iteration = 850 : train error = 156.5 : test error = 159.853\n",
            "iteration = 860 : train error = 156.261 : test error = 159.601\n",
            "iteration = 870 : train error = 156.027 : test error = 159.353\n",
            "iteration = 880 : train error = 155.797 : test error = 159.11\n",
            "iteration = 890 : train error = 155.572 : test error = 158.872\n",
            "iteration = 900 : train error = 155.35 : test error = 158.638\n",
            "iteration = 910 : train error = 155.133 : test error = 158.409\n",
            "iteration = 920 : train error = 154.92 : test error = 158.184\n",
            "iteration = 930 : train error = 154.712 : test error = 157.963\n",
            "iteration = 940 : train error = 154.507 : test error = 157.747\n",
            "iteration = 950 : train error = 154.306 : test error = 157.534\n",
            "iteration = 960 : train error = 154.109 : test error = 157.326\n",
            "iteration = 970 : train error = 153.916 : test error = 157.121\n",
            "iteration = 980 : train error = 153.726 : test error = 156.921\n",
            "iteration = 990 : train error = 153.54 : test error = 156.724\n"
          ]
        },
        {
          "output_type": "display_data",
          "data": {
            "text/plain": [
              "<Figure size 720x360 with 1 Axes>"
            ],
            "image/png": "[encoded data removed]"
          },
          "metadata": {
            "needs_background": "light"
          }
        }
      ]
    }
  ]
}